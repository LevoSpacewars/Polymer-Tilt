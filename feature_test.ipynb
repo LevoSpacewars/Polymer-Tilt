{
 "cells": [
  {
   "cell_type": "code",
   "execution_count": 1,
   "metadata": {},
   "outputs": [
    {
     "name": "stderr",
     "output_type": "stream",
     "text": [
      "In /home/alexander/.local/lib/python3.6/site-packages/matplotlib/mpl-data/stylelib/_classic_test.mplstyle: \n",
      "The text.latex.preview rcparam was deprecated in Matplotlib 3.3 and will be removed two minor releases later.\n",
      "In /home/alexander/.local/lib/python3.6/site-packages/matplotlib/mpl-data/stylelib/_classic_test.mplstyle: \n",
      "The mathtext.fallback_to_cm rcparam was deprecated in Matplotlib 3.3 and will be removed two minor releases later.\n",
      "In /home/alexander/.local/lib/python3.6/site-packages/matplotlib/mpl-data/stylelib/_classic_test.mplstyle: Support for setting the 'mathtext.fallback_to_cm' rcParam is deprecated since 3.3 and will be removed two minor releases later; use 'mathtext.fallback : 'cm' instead.\n",
      "In /home/alexander/.local/lib/python3.6/site-packages/matplotlib/mpl-data/stylelib/_classic_test.mplstyle: \n",
      "The validate_bool_maybe_none function was deprecated in Matplotlib 3.3 and will be removed two minor releases later.\n",
      "In /home/alexander/.local/lib/python3.6/site-packages/matplotlib/mpl-data/stylelib/_classic_test.mplstyle: \n",
      "The savefig.jpeg_quality rcparam was deprecated in Matplotlib 3.3 and will be removed two minor releases later.\n",
      "In /home/alexander/.local/lib/python3.6/site-packages/matplotlib/mpl-data/stylelib/_classic_test.mplstyle: \n",
      "The keymap.all_axes rcparam was deprecated in Matplotlib 3.3 and will be removed two minor releases later.\n",
      "In /home/alexander/.local/lib/python3.6/site-packages/matplotlib/mpl-data/stylelib/_classic_test.mplstyle: \n",
      "The animation.avconv_path rcparam was deprecated in Matplotlib 3.3 and will be removed two minor releases later.\n",
      "In /home/alexander/.local/lib/python3.6/site-packages/matplotlib/mpl-data/stylelib/_classic_test.mplstyle: \n",
      "The animation.avconv_args rcparam was deprecated in Matplotlib 3.3 and will be removed two minor releases later.\n"
     ]
    }
   ],
   "source": [
    "import numpy as np \n",
    "from math import *\n",
    "import random as r\n",
    "from matplotlib import pyplot as plt\n",
    "def getHeatMap(fname, force):\n",
    "    mod =  np.delete(np.array(ps.read_csv('./compiledRuns/' + fname + '/heatmap_' + str(force) + '.txt',header=1)), 0, axis=1)\n",
    "    mod = np.delete(mod, len(mod[0])-1,axis=1)\n",
    "    return mod\n",
    "def getDenProf(fname, force):\n",
    "    return np.array(ps.read_csv('./compiledRuns/' + fname + '/ProfileDensity_' + str(force) + '.txt',header=1))\n",
    "def genPotential(dim, rez):\n",
    "    x = np.linspace(0,dim[0],rez[0])\n",
    "    potential = np.cos(m.pi * 2 /dim[0] * x)\n",
    "    for i in range(rez[1]):\n",
    "        potential= np.vstack([potential,np.cos(m.pi * 2 * x)])\n",
    "    return potential\n",
    "def getIntersection(xd,yd, slope):\n",
    "\n",
    "    thetas = xd\n",
    "    tilt = yd\n",
    "    l2 = [(0,0),(0.2,slope*0.2)]\n",
    "    for p in range(0,len(thetas)):\n",
    "\n",
    "        p2 = tilt[p]\n",
    "        if p2 > slope * thetas[p] + tilt[0]:\n",
    "            return (slope, round(thetas[p],3), tilt[p])\n",
    "    return (slope,0.,0.)"
   ]
  },
  {
   "cell_type": "code",
   "execution_count": 2,
   "metadata": {},
   "outputs": [],
   "source": [
    "# heatmap function\n",
    "\n",
    "def random_position(dim):\n",
    "    return r.random() * dim[0], r.random()*dim[1]\n",
    "def genData(time_steps:int, particles, dim, func: callable):\n",
    "    data = []\n",
    "    for t in range(time_steps):\n",
    "        data.append([])\n",
    "        for x in range(particles):\n",
    "            data[t].append(func(dim))\n",
    "    return data\n",
    "    \n",
    "    \n",
    "            \n",
    "    \n",
    "\n",
    "def fheatmap(data,resolution:tuple, dimensions: tuple, origin: tuple):\n",
    "    heatmap = np.zeros((resolution[1],resolution[0]))\n",
    "    dimmap = []\n",
    "    xconv = dimensions[0]/resolution[0]\n",
    "    yconv = dimensions[1]/resolution[1]\n",
    "    \n",
    "    # first constuct edge borders\n",
    "    \n",
    "    dimmap.append([])\n",
    "    for x in range(len(heatmap[0]) + 1):\n",
    "        xcoord = xconv * x + origin[0]\n",
    "        dimmap[-1].append(xcoord)\n",
    "        \n",
    "    dimmap.append([])\n",
    "    for y in range(len(heatmap) + 1):\n",
    "        ycoord = yconv * y + origin[1]\n",
    "        dimmap[-1].append(ycoord)\n",
    "    \n",
    "    div_size: int = len(data[0])\n",
    "    for t in data:\n",
    "        for p in t:\n",
    "            x = p[0]\n",
    "            y = p[1]\n",
    "            xind = -1\n",
    "            yind = -1\n",
    "            \n",
    "            # search x\n",
    "            index: int = len(dimmap[0]) // 2\n",
    "            step = index // 2\n",
    "            for loop in range(div_size):\n",
    "                \n",
    "                if x < dimmap[0][index + 1] and x > dimmap[0][index]:\n",
    "                    xind = index\n",
    "                    \n",
    "                    break\n",
    "                elif x < dimmap[0][index]:\n",
    "                    index = index - step\n",
    "                \n",
    "                elif x > dimmap[0][index]:\n",
    "                    index = index + step\n",
    "                    \n",
    "                \n",
    "                step = step // 2\n",
    "                    \n",
    "                    \n",
    "            # search y\n",
    "            index: int = len(dimmap[1]) // 2\n",
    "            step = index // 2\n",
    "            \n",
    "            for loop in range(div_size):\n",
    "                if y < dimmap[1][index + 1] and y > dimmap[1][index]:\n",
    "                    yind = index\n",
    "                    \n",
    "                    break\n",
    "                elif y < dimmap[1][index]:\n",
    "                    index = index - step\n",
    "                \n",
    "                elif y > dimmap[1][index]:\n",
    "                    index = index + step\n",
    "                    \n",
    "                \n",
    "                step = step // 2\n",
    "                    \n",
    "            \n",
    "            heatmap[yind][xind] += 1\n",
    "    \n",
    "    \n"
   ]
  },
  {
   "cell_type": "code",
   "execution_count": 4,
   "metadata": {},
   "outputs": [],
   "source": [
    "d = genData(10,10,(2,3),random_position)\n",
    "fheatmap(d,(10,10),(2,3),(0,0))"
   ]
  },
  {
   "cell_type": "code",
   "execution_count": 5,
   "metadata": {},
   "outputs": [],
   "source": [
    "def X (a,kbt,A,T,theta):\n",
    "    theta = atan(theta)\n",
    "    print((A/0.2)*tanh(1/(a*10*2*pi)))\n",
    "    print(A)\n",
    "    \n",
    "    \n",
    "    F = sqrt( pow(T,2.0) + pow(T * tan(theta),2.0))\n",
    "    B = 1/(a*10*2*pi)\n",
    "    am = A * 1/(a*10*2*pi)\n",
    "    \n",
    "    V = (am)/0.2\n",
    "    \n",
    "    \n",
    "    output = F*pow(a,2) * pow(1/kbt,2) * V / pow(pi,2)\n",
    "    return output\n",
    "\n",
    "def Y (a,kbt,T,theta,utheta):\n",
    "    theta = atan(theta)\n",
    "    utheta = atan(utheta)\n",
    "    F = sqrt( T**2 + pow(T * tan(theta),2))\n",
    "    output =F*a*theta * (1/kbt) * 1/pi\n",
    "    uoutput = F*a*utheta * (1/kbt) * 1/pi\n",
    "    return (output, uoutput)"
   ]
  },
  {
   "cell_type": "code",
   "execution_count": null,
   "metadata": {},
   "outputs": [],
   "source": []
  },
  {
   "cell_type": "code",
   "execution_count": null,
   "metadata": {},
   "outputs": [],
   "source": []
  },
  {
   "cell_type": "code",
   "execution_count": null,
   "metadata": {},
   "outputs": [],
   "source": []
  },
  {
   "cell_type": "code",
   "execution_count": 19,
   "metadata": {},
   "outputs": [],
   "source": [
    "import math\n",
    "def get_mod(nodes, threshold,amplitude):\n",
    "    \n",
    "    upper = 0.005\n",
    "    lower = 0.005\n",
    "    x = 0\n",
    "    a = []\n",
    "    hb = 0\n",
    "    \n",
    "    while(x <= threshold):\n",
    "        x=0\n",
    "        a=[]\n",
    "        for i in range(nodes):\n",
    "            am = (upper * hb - lower) + lower\n",
    "            a.append(am)\n",
    "        for element in a:\n",
    "            x += element * element\n",
    "        x = math.sqrt(x)/amplitude\n",
    "        hb += 0.001\n",
    "    return hb\n",
    "\n",
    "def get_ratio(nodes, mod,amplitude):\n",
    "        \n",
    "        x = 0\n",
    "        a = []\n",
    "        upper = 0.005\n",
    "        lower = 0.005\n",
    "    \n",
    "        for i in range(nodes):\n",
    "            am =  (upper * mod - lower) + lower\n",
    "            a.append(am)\n",
    "            \n",
    "        for element in a:\n",
    "            x += element * element\n",
    "        x = math.sqrt(x)/amplitude\n",
    "        return x\n",
    "        "
   ]
  },
  {
   "cell_type": "code",
   "execution_count": 20,
   "metadata": {},
   "outputs": [],
   "source": [
    "\n",
    "ratios = np.linspace(0,1,100)\n",
    "mods = []\n",
    "ratioss = []\n",
    "for element in ratios:\n",
    "    mods.append(get_mod(60,element,1))\n",
    "\n",
    "for element in mods:\n",
    "    ratioss.append(get_ratio(60,element,1))"
   ]
  },
  {
   "cell_type": "code",
   "execution_count": 21,
   "metadata": {},
   "outputs": [
    {
     "data": {
      "text/plain": [
       "<matplotlib.legend.Legend at 0x7f75846f0e48>"
      ]
     },
     "execution_count": 21,
     "metadata": {},
     "output_type": "execute_result"
    },
    {
     "data": {
      "image/png": "[encoded data removed]",
      "text/plain": [
       "<Figure size 432x288 with 1 Axes>"
      ]
     },
     "metadata": {
      "needs_background": "light"
     },
     "output_type": "display_data"
    }
   ],
   "source": [
    "plt.plot(mods,ratios, label='regular')\n",
    "plt.plot(mods,ratioss)\n",
    "plt.legend()\n"
   ]
  },
  {
   "cell_type": "code",
   "execution_count": 9,
   "metadata": {},
   "outputs": [],
   "source": [
    "import math\n",
    "import random as r\n",
    "from matplotlib import pyplot as plt\n",
    "from scipy import optimize as op \n",
    "import numpy as np\n",
    "def obj(x,a,b,c):\n",
    "    return a*np.power(x,b) + c\n",
    "upper = 0.05\n",
    "lower = 0.005\n",
    "n = []\n",
    "d = []\n",
    "for nn in range(0,1000):\n",
    "    a = []\n",
    "    doa = 0\n",
    "    for i in range(nn):\n",
    "        ta = r.random()*(upper - lower) + lower\n",
    "        a.append(ta)\n",
    "    for element in a:\n",
    "        doa += element * element\n",
    "    doa = math.sqrt(doa)\n",
    "    \n",
    "    n.append(nn)\n",
    "    d.append(doa)\n",
    "    "
   ]
  },
  {
   "cell_type": "code",
   "execution_count": 10,
   "metadata": {},
   "outputs": [
    {
     "name": "stdout",
     "output_type": "stream",
     "text": [
      "(array([0.03007356, 0.50132855, 0.0012423 ]), array([[ 5.59008463e-07, -2.39403722e-06, -2.32885265e-06],\n",
      "       [-2.39403722e-06,  1.02972875e-05,  9.79626160e-06],\n",
      "       [-2.32885265e-06,  9.79626160e-06,  1.05472907e-05]]))\n"
     ]
    },
    {
     "data": {
      "text/plain": [
       "[<matplotlib.lines.Line2D at 0x7f75a0fe7860>]"
      ]
     },
     "execution_count": 10,
     "metadata": {},
     "output_type": "execute_result"
    },
    {
     "data": {
      "image/png": "[encoded data removed]",
      "text/plain": [
       "<Figure size 432x288 with 1 Axes>"
      ]
     },
     "metadata": {
      "needs_background": "light"
     },
     "output_type": "display_data"
    }
   ],
   "source": [
    "plt.plot(n,d)\n",
    "polyline = np.linspace(0, 1000, 1000)\n",
    "curve = op.curve_fit(obj, polyline, d)\n",
    "print(curve)\n",
    "noutput = obj(polyline, curve[0][0],curve[0][1],curve[0][2])\n",
    "plt.plot(polyline,noutput)"
   ]
  },
  {
   "cell_type": "code",
   "execution_count": 11,
   "metadata": {},
   "outputs": [
    {
     "ename": "NameError",
     "evalue": "name 'model2' is not defined",
     "output_type": "error",
     "traceback": [
      "\u001b[0;31m---------------------------------------------------------------------------\u001b[0m",
      "\u001b[0;31mNameError\u001b[0m                                 Traceback (most recent call last)",
      "\u001b[0;32m<ipython-input-11-2a2ce467160e>\u001b[0m in \u001b[0;36m<module>\u001b[0;34m\u001b[0m\n\u001b[0;32m----> 1\u001b[0;31m \u001b[0mprint\u001b[0m\u001b[0;34m(\u001b[0m\u001b[0mmodel2\u001b[0m\u001b[0;34m)\u001b[0m\u001b[0;34m\u001b[0m\u001b[0;34m\u001b[0m\u001b[0m\n\u001b[0m",
      "\u001b[0;31mNameError\u001b[0m: name 'model2' is not defined"
     ]
    }
   ],
   "source": [
    "print(model2)"
   ]
  },
  {
   "cell_type": "code",
   "execution_count": null,
   "metadata": {},
   "outputs": [],
   "source": []
  }
 ],
 "metadata": {
  "kernelspec": {
   "display_name": "Python 3",
   "language": "python",
   "name": "python3"
  },
  "language_info": {
   "codemirror_mode": {
    "name": "ipython",
    "version": 3
   },
   "file_extension": ".py",
   "mimetype": "text/x-python",
   "name": "python",
   "nbconvert_exporter": "python",
   "pygments_lexer": "ipython3",
   "version": "3.6.9"
  }
 },
 "nbformat": 4,
 "nbformat_minor": 4
}
