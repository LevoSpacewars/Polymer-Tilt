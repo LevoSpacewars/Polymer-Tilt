{
 "cells": [
  {
   "cell_type": "code",
   "execution_count": 3,
   "metadata": {},
   "outputs": [],
   "source": [
    "import numpy as np\n",
    "from matplotlib import pyplot as plt\n",
    "import pandas"
   ]
  },
  {
   "cell_type": "code",
   "execution_count": 7,
   "metadata": {},
   "outputs": [
    {
     "name": "stdout",
     "output_type": "stream",
     "text": [
      "[        dx  -0.00359805  -0.000923384\n",
      "0      udx    -5.498400    -14.539600\n",
      "1   length    21.511600     21.513200\n",
      "2  ulength          NaN           NaN\n",
      "3   output    -0.000167     -0.000043\n",
      "4   uouput          NaN           NaN\n",
      "5      dx2     0.005223      0.005298,         dx  -0.00542875\n",
      "0      udx    -2.793670\n",
      "1   length    21.507600\n",
      "2  ulength          NaN\n",
      "3   output    -0.000252\n",
      "4   uouput          NaN\n",
      "5      dx2     0.005235,         dx  -0.00615432\n",
      "0      udx    -1.665090\n",
      "1   length    21.505800\n",
      "2  ulength          NaN\n",
      "3   output    -0.000286\n",
      "4   uouput          NaN\n",
      "5      dx2     0.005245,         dx\n",
      "0      udx\n",
      "1   length\n",
      "2  ulength\n",
      "3   output\n",
      "4   uouput\n",
      "5      dx2,         dx\n",
      "0      udx\n",
      "1   length\n",
      "2  ulength\n",
      "3   output\n",
      "4   uouput\n",
      "5      dx2,         dx\n",
      "0      udx\n",
      "1   length\n",
      "2  ulength\n",
      "3   output\n",
      "4   uouput\n",
      "5      dx2,         dx\n",
      "0      udx\n",
      "1   length\n",
      "2  ulength\n",
      "3   output\n",
      "4   uouput\n",
      "5      dx2,         dx\n",
      "0      udx\n",
      "1   length\n",
      "2  ulength\n",
      "3   output\n",
      "4   uouput\n",
      "5      dx2,         dx\n",
      "0      udx\n",
      "1   length\n",
      "2  ulength\n",
      "3   output\n",
      "4   uouput\n",
      "5      dx2]\n"
     ]
    }
   ],
   "source": [
    "disorder_data = []\n",
    "foldername = ['10000','10001','10002','10003','10004','10005','10006','10007','100010']\n",
    "for name in foldername:\n",
    "    disorder_data.append(pandas.read_csv('./compiledRuns/' + name + '/data.txt'))\n",
    "print(disorder_data)"
   ]
  },
  {
   "cell_type": "code",
   "execution_count": 8,
   "metadata": {},
   "outputs": [
    {
     "name": "stdout",
     "output_type": "stream",
     "text": [
      "[1, 2, 3, 4, 'a']\n"
     ]
    }
   ],
   "source": [
    "a = [1,2,3,4]\n",
    "b = ['a']\n",
    "print(a + b)"
   ]
  },
  {
   "cell_type": "code",
   "execution_count": 9,
   "metadata": {},
   "outputs": [
    {
     "ename": "TypeError",
     "evalue": "__init__() takes 2 positional arguments but 3 were given",
     "output_type": "error",
     "traceback": [
      "\u001b[0;31m---------------------------------------------------------------------------\u001b[0m",
      "\u001b[0;31mTypeError\u001b[0m                                 Traceback (most recent call last)",
      "\u001b[0;32m<ipython-input-9-0cc20eea506f>\u001b[0m in \u001b[0;36m<module>\u001b[0;34m\u001b[0m\n\u001b[1;32m      4\u001b[0m         \u001b[0mself\u001b[0m\u001b[0;34m.\u001b[0m\u001b[0my\u001b[0m \u001b[0;34m=\u001b[0m \u001b[0my\u001b[0m\u001b[0;34m\u001b[0m\u001b[0;34m\u001b[0m\u001b[0m\n\u001b[1;32m      5\u001b[0m \u001b[0;34m\u001b[0m\u001b[0m\n\u001b[0;32m----> 6\u001b[0;31m \u001b[0mprint\u001b[0m\u001b[0;34m(\u001b[0m\u001b[0mfindme\u001b[0m\u001b[0;34m(\u001b[0m\u001b[0;36m1\u001b[0m\u001b[0;34m,\u001b[0m\u001b[0;36m2\u001b[0m\u001b[0;34m)\u001b[0m\u001b[0;34m)\u001b[0m\u001b[0;34m\u001b[0m\u001b[0;34m\u001b[0m\u001b[0m\n\u001b[0m",
      "\u001b[0;31mTypeError\u001b[0m: __init__() takes 2 positional arguments but 3 were given"
     ]
    }
   ],
   "source": [
    "class findme:\n",
    "    def __init__(self,x,y):\n",
    "        self.x = x\n",
    "        self.y = y\n",
    "    \n",
    "print(findme(1,2))"
   ]
  },
  {
   "cell_type": "code",
   "execution_count": null,
   "metadata": {},
   "outputs": [],
   "source": []
  }
 ],
 "metadata": {
  "kernelspec": {
   "display_name": "Python 3",
   "language": "python",
   "name": "python3"
  },
  "language_info": {
   "codemirror_mode": {
    "name": "ipython",
    "version": 3
   },
   "file_extension": ".py",
   "mimetype": "text/x-python",
   "name": "python",
   "nbconvert_exporter": "python",
   "pygments_lexer": "ipython3",
   "version": "3.7.4"
  }
 },
 "nbformat": 4,
 "nbformat_minor": 4
}
