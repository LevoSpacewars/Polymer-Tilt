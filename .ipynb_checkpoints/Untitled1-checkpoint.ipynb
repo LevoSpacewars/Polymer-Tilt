{
 "cells": [
  {
   "cell_type": "code",
   "execution_count": 113,
   "metadata": {},
   "outputs": [],
   "source": [
    "import numpy as np\n",
    "from matplotlib import pyplot as plt\n",
    "import math as m\n",
    "import scipy.integrate as integrate\n",
    "kb = 1.38 * pow(10,-23)\n",
    "mass_water = 0.001 / (6.088 * pow(10, 23))\n"
   ]
  },
  {
   "cell_type": "code",
   "execution_count": 124,
   "metadata": {},
   "outputs": [],
   "source": [
    "def boltzmanDist(number,averageTemp,norm = True):\n",
    "    upperbound = pow(averageTemp * kb * 3 / mass_water, 0.5) * (10)\n",
    "    V = np.linspace(0,upperbound,number)\n",
    "    de = 1000/number\n",
    "    dist = []\n",
    "    axis = []\n",
    "    def func(vel):\n",
    "        a = pow((kb * averageTemp) / mass_water,0.5)\n",
    "        energy = 1/2 * mass_water * pow(vel,2)\n",
    "        return 1 / pow(a,3) * pow(vel,2) * pow(m.e, -(energy / (kb * averageTemp )))\n",
    "    \n",
    "    z = 0\n",
    "    \n",
    "    for vel in V:\n",
    "        t = integrate.quad(func, vel, vel + de)\n",
    "        z += t[0]\n",
    "        dist.append(t[0])\n",
    "        \n",
    "        axis.append((2*vel + de)/2)\n",
    "    \n",
    "    if norm:\n",
    "        for i in range(len(dist)):\n",
    "            dist[i] /= z\n",
    "        \n",
    "       \n",
    "        \n",
    "    return np.array(dist), np.array(axis)\n",
    "\n",
    "def getAverageTemp(dist,axis):\n",
    "    v = 0\n",
    "    for ind in range(len(dist)):\n",
    "        v += dist[ind] * axis[ind] \n",
    "    \n",
    "    t =mass_water * pow(v,2) / (3 * kb) * (2 - 0.8488263669040416)\n",
    "    return t\n",
    "    "
   ]
  },
  {
   "cell_type": "code",
   "execution_count": 126,
   "metadata": {},
   "outputs": [
    {
     "name": "stdout",
     "output_type": "stream",
     "text": [
      "0.9771465326565685\n"
     ]
    },
    {
     "data": {
      "text/plain": [
       "[<matplotlib.lines.Line2D at 0x7fbed0c0f490>]"
      ]
     },
     "execution_count": 126,
     "metadata": {},
     "output_type": "execute_result"
    },
    {
     "data": {
      "image/png": "[encoded data removed]",
      "text/plain": [
       "<Figure size 432x288 with 1 Axes>"
      ]
     },
     "metadata": {
      "needs_background": "light"
     },
     "output_type": "display_data"
    }
   ],
   "source": [
    "NUM = 2000\n",
    "temp=  123\n",
    "dist, axis = boltzmanDist(NUM,temp)\n",
    "# take away 2 percent of the dist\n",
    "\n",
    "getAverageTemp(dist,axis)\n",
    "\n",
    "plt.plot(axis,dist)\n",
    "s = []\n",
    "for i in range(len(dist)):\n",
    "    s.append(dist[i] * axis[i])\n",
    "    if(sum(s) < 0.02):\n",
    "        dist[i] = 0\n",
    "        axis[i] = 0\n",
    "    else:\n",
    "        break\n",
    "\n",
    "atemp = getAverageTemp(dist)\n",
    "\n"
   ]
  },
  {
   "cell_type": "code",
   "execution_count": 81,
   "metadata": {},
   "outputs": [
    {
     "name": "stdout",
     "output_type": "stream",
     "text": [
      "21\n"
     ]
    }
   ],
   "source": [
    "takeaway =0\n",
    "for element in s:\n",
    "    takeaway += int(element * NUM)\n",
    "print(takeaway)\n"
   ]
  },
  {
   "cell_type": "code",
   "execution_count": null,
   "metadata": {},
   "outputs": [],
   "source": []
  }
 ],
 "metadata": {
  "kernelspec": {
   "display_name": "Python 3",
   "language": "python",
   "name": "python3"
  },
  "language_info": {
   "codemirror_mode": {
    "name": "ipython",
    "version": 3
   },
   "file_extension": ".py",
   "mimetype": "text/x-python",
   "name": "python",
   "nbconvert_exporter": "python",
   "pygments_lexer": "ipython3",
   "version": "3.7.4"
  }
 },
 "nbformat": 4,
 "nbformat_minor": 4
}
