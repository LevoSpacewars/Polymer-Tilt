{
 "cells": [
  {
   "cell_type": "code",
   "execution_count": 3,
   "metadata": {},
   "outputs": [],
   "source": [
    "import numpy as np\n",
    "from matplotlib import pyplot as plt\n",
    "import pandas"
   ]
  },
  {
   "cell_type": "code",
   "execution_count": 7,
   "metadata": {},
   "outputs": [
    {
     "name": "stdout",
     "output_type": "stream",
     "text": [
      "[        dx  -0.00359805  -0.000923384\n",
      "0      udx    -5.498400    -14.539600\n",
      "1   length    21.511600     21.513200\n",
      "2  ulength          NaN           NaN\n",
      "3   output    -0.000167     -0.000043\n",
      "4   uouput          NaN           NaN\n",
      "5      dx2     0.005223      0.005298,         dx  -0.00542875\n",
      "0      udx    -2.793670\n",
      "1   length    21.507600\n",
      "2  ulength          NaN\n",
      "3   output    -0.000252\n",
      "4   uouput          NaN\n",
      "5      dx2     0.005235,         dx  -0.00615432\n",
      "0      udx    -1.665090\n",
      "1   length    21.505800\n",
      "2  ulength          NaN\n",
      "3   output    -0.000286\n",
      "4   uouput          NaN\n",
      "5      dx2     0.005245,         dx\n",
      "0      udx\n",
      "1   length\n",
      "2  ulength\n",
      "3   output\n",
      "4   uouput\n",
      "5      dx2,         dx\n",
      "0      udx\n",
      "1   length\n",
      "2  ulength\n",
      "3   output\n",
      "4   uouput\n",
      "5      dx2,         dx\n",
      "0      udx\n",
      "1   length\n",
      "2  ulength\n",
      "3   output\n",
      "4   uouput\n",
      "5      dx2,         dx\n",
      "0      udx\n",
      "1   length\n",
      "2  ulength\n",
      "3   output\n",
      "4   uouput\n",
      "5      dx2,         dx\n",
      "0      udx\n",
      "1   length\n",
      "2  ulength\n",
      "3   output\n",
      "4   uouput\n",
      "5      dx2,         dx\n",
      "0      udx\n",
      "1   length\n",
      "2  ulength\n",
      "3   output\n",
      "4   uouput\n",
      "5      dx2]\n"
     ]
    }
   ],
   "source": [
    "disorder_data = []\n",
    "foldername = ['10000','10001','10002','10003','10004','10005','10006','10007','100010']\n",
    "for name in foldername:\n",
    "    disorder_data.append(pandas.read_csv('./compiledRuns/' + name + '/data.txt'))\n",
    "print(disorder_data)"
   ]
  },
  {
   "cell_type": "code",
   "execution_count": 8,
   "metadata": {},
   "outputs": [
    {
     "name": "stdout",
     "output_type": "stream",
     "text": [
      "[1, 2, 3, 4, 'a']\n"
     ]
    }
   ],
   "source": [
    "a = [1,2,3,4]\n",
    "b = ['a']\n",
    "print(a + b)"
   ]
  },
  {
   "cell_type": "code",
   "execution_count": 16,
   "metadata": {},
   "outputs": [
    {
     "name": "stdout",
     "output_type": "stream",
     "text": [
      "<__main__.findme object at 0x7f018de2d350>\n"
     ]
    }
   ],
   "source": [
    "class findme:\n",
    "    def __init__(self,x,y):\n",
    "        self.x = x\n",
    "        self.y = y\n",
    "    \n",
    "#     def __repr__(self):\n",
    "#         return str((self.x,self.y))\n",
    "    \n",
    "p = findme(1,2)\n",
    "print(p)"
   ]
  },
  {
   "cell_type": "code",
   "execution_count": null,
   "metadata": {},
   "outputs": [],
   "source": []
  }
 ],
 "metadata": {
  "kernelspec": {
   "display_name": "Python 3",
   "language": "python",
   "name": "python3"
  },
  "language_info": {
   "codemirror_mode": {
    "name": "ipython",
    "version": 3
   },
   "file_extension": ".py",
   "mimetype": "text/x-python",
   "name": "python",
   "nbconvert_exporter": "python",
   "pygments_lexer": "ipython3",
   "version": "3.7.4"
  }
 },
 "nbformat": 4,
 "nbformat_minor": 4
}
