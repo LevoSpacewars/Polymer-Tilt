{
 "cells": [
  {
   "cell_type": "code",
   "execution_count": 1,
   "metadata": {},
   "outputs": [
    {
     "ename": "SyntaxError",
     "evalue": "EOL while scanning string literal (<ipython-input-1-335fd6a8b7d3>, line 6)",
     "output_type": "error",
     "traceback": [
      "\u001b[0;36m  File \u001b[0;32m\"<ipython-input-1-335fd6a8b7d3>\"\u001b[0;36m, line \u001b[0;32m6\u001b[0m\n\u001b[0;31m    settings = \"#!/bin/bash \\n #SBATCH --partition=short        ### Partition (like a queue in PBS) \\n #SBATCH --job-name=CompileData      $\u001b[0m\n\u001b[0m                                                                                                                                            ^\u001b[0m\n\u001b[0;31mSyntaxError\u001b[0m\u001b[0;31m:\u001b[0m EOL while scanning string literal\n"
     ]
    }
   ],
   "source": [
    "#compileAllRuns\n",
    "import os\n",
    "import sys\n",
    "SIMPATH = \"/home/apatapof/softmatter/runs/\"\n",
    "path = SIMPATH\n",
    "settings = \"#!/bin/bash \\n #SBATCH --partition=short        ### Partition (like a queue in PBS) \\n #SBATCH --job-name=CompileData      $\n",
    "command = \"/home/apatapof/softmatter/Polymer-Tilt/DataHandler/Executable /home/apatapof/softmatter/runs/\"\n",
    "dirs =[]\n",
    "print(\"starting\")\n",
    "dir_content = os.listdir(path)\n",
    "if len(sys.argv) > 1:\n",
    "    for item in dir_content:\n",
    "        if os.path.isdir(path + item) and os.path.exists(path + item + \"/trajectory.gsd\") and sys.argv[1] in item:\n",
    "            dirs.append(item)\n",
    "        print(path  + item + \"/trajectory.gsd\")\n",
    "else:\n",
    "    for item in dir_content:\n",
    "        if os.path.isdir(path + item) and os.path.exists(path + item + \"/trajectory.gsd\"):\n",
    "            dirs.append(item)\n",
    "        print(path  + item + \"/trajectory.gsd\")\n",
    "print(dirs)\n",
    "for items in range(len(dirs)):\n",
    "    name = \"compile_\" + item + \".batch\"\n",
    "    f = open(\"compile_\" + item + \".batch\",'a')\n",
    "    f.write(settings)\n",
    "    cmd = command + item\n",
    "    f.write(cmd)\n",
    "    f.close()\n",
    "    os.system(\"sbatch \" + name)\n",
    "    print(item)\n",
    "\n"
   ]
  },
  {
   "cell_type": "code",
   "execution_count": 2,
   "metadata": {},
   "outputs": [
    {
     "name": "stdout",
     "output_type": "stream",
     "text": [
      "0.19107190762022008\n"
     ]
    }
   ],
   "source": [
    "import math\n",
    "from matplotlib import pyplot as plt\n",
    "def getR(t,a,kbt,theta):\n",
    "    return math.sqrt(t**2 + (math.tan(theta)*t)**2) * kbt * a * theta/math.pi\n",
    "print(getR(20,1,1,0.03))"
   ]
  },
  {
   "cell_type": "code",
   "execution_count": 5,
   "metadata": {},
   "outputs": [
    {
     "data": {
      "text/plain": [
       "Text(0, 0.5, 'Critical Force Angle')"
      ]
     },
     "execution_count": 5,
     "metadata": {},
     "output_type": "execute_result"
    },
    {
     "data": {
      "image/png": "[encoded data removed]",
      "text/plain": [
       "<Figure size 432x288 with 1 Axes>"
      ]
     },
     "metadata": {
      "needs_background": "light"
     },
     "output_type": "display_data"
    }
   ],
   "source": [
    "plt.errorbar(200,0.03,yerr=0.005,color='red',label='ten:20,kbt=1,amp=3',fmt='.')\n",
    "plt.errorbar(400,0.03,yerr=0.005,color='red',fmt='.')\n",
    "plt.errorbar(800,0.03,yerr=0.005,color='red',fmt='.')\n",
    "\n",
    "plt.errorbar(200,0.075,yerr=0.005,color='blue',label='ten:20,kbt=1,amp=6',fmt='.')\n",
    "plt.errorbar(200,0.075,yerr=0.005,color='blue',fmt='.')\n",
    "\n",
    "plt.errorbar(200,0.035,yerr=0.005,color='green',label='ten:40,kbt=1,amp=3',fmt='.')\n",
    "plt.errorbar(400,0.065,yerr=0.005,color='yellow',label='ten:20,kbt=2,amp=9',fmt='.')\n",
    "plt.legend()\n",
    "plt.xlabel(\"Polymer Length\")\n",
    "plt.ylabel(\"Critical Force Angle\")\n",
    "\n"
   ]
  },
  {
   "cell_type": "code",
   "execution_count": 13,
   "metadata": {},
   "outputs": [],
   "source": [
    "# Modified from Alexander to remove pi values\n",
    "\n",
    "def X (a,kbt,A,T,theta):\n",
    "    theta = math.atan(theta)\n",
    "    print((A/0.3)*math.tanh(1/(a*10*2*math.pi)))\n",
    "    print(A)\n",
    "    \n",
    "    \n",
    "    F = math.sqrt( pow(T,2.0) + pow(T * math.tan(theta),2.0))\n",
    "    print(F)\n",
    "    B = 1/(a*10*2*math.pi)\n",
    "    am = A * 1/(a*10*2*math.pi)\n",
    "    \n",
    "    V = (am)/0.2\n",
    "    print(V)\n",
    "    \n",
    "    \n",
    "    output = F*pow(a,2) * pow(1/kbt,2) * V \n",
    "    return output\n",
    "def Y (a,kbt,T,theta,utheta):\n",
    "    theta = math.atan(theta)\n",
    "    utheta = math.atan(utheta)\n",
    "    F = math.sqrt( T**2 + pow(T * math.tan(theta),2))\n",
    "    output =F*a*theta * (1/kbt)\n",
    "    uoutput = utheta/theta * output\n",
    "    return (output, uoutput)"
   ]
  },
  {
   "cell_type": "code",
   "execution_count": 8,
   "metadata": {},
   "outputs": [
    {
     "name": "stdout",
     "output_type": "stream",
     "text": [
      "0.15914150631397675\n",
      "3\n",
      "20.008997975910738\n",
      "0.238732414637843\n"
     ]
    },
    {
     "data": {
      "text/plain": [
       "0.48399066539542807"
      ]
     },
     "execution_count": 8,
     "metadata": {},
     "output_type": "execute_result"
    }
   ],
   "source": [
    "X(1,1,3,20,.03)"
   ]
  },
  {
   "cell_type": "code",
   "execution_count": 11,
   "metadata": {},
   "outputs": [
    {
     "data": {
      "text/plain": [
       "[<matplotlib.lines.Line2D at 0x7f8f9a070f50>]"
      ]
     },
     "execution_count": 11,
     "metadata": {},
     "output_type": "execute_result"
    },
    {
     "data": {
      "image/png": "[encoded data removed]",
      "text/plain": [
       "<Figure size 432x288 with 1 Axes>"
      ]
     },
     "metadata": {
      "needs_background": "light"
     },
     "output_type": "display_data"
    }
   ],
   "source": [
    "s = \"{{0., 0.}, {0.3, 0.149379}, {0.6, 0.295278}, {0.9, 0.435244}, {1.2, 0.568148}, {1.5, 0.693871}, {1.8, 0.812837}, {2.1, 0.925679}, {2.4, 1.03306}, {2.7, 1.13559}, {3., 1.23382}, {3.3, 1.32821}, {3.6, 1.41916}, {3.9, 1.50701}, {4.2, 1.59204}, {4.5, 1.67452}, {4.8, 1.75466}, {5.1, 1.83264}, {5.4, 1.90864}, {5.7, 1.98279}, {6., 2.05523}, {6.3, 2.12607}, {6.6, 2.19541}, {6.9, 2.26335}, {7.2, 2.32996}, {7.5, 2.39533}, {7.8, 2.45952}, {8.1, 2.52259}, {8.4, 2.58461}, {8.7, 2.64562}, {9., 2.70566}, {9.6,2.82306}, {9.9, 2.88049}, {10.2, 2.93711}, {10.5, 2.99297}, {10.8, 3.04809}, {11.1, 3.10251}, {11.4, 3.15624}, {11.7, 3.20932}, {12., 3.26177}, {12.3, 3.31361}, {12.6, 3.36486}, {12.9, 3.41554}}\"\n",
    "s = s.replace(\"{\",\"\")\n",
    "s = s.replace(\"}\",\"\")\n",
    "s = s.split(\",\")\n",
    "rowx = []\n",
    "rowy = []\n",
    "for i in range(0,len(s),2):\n",
    "    rowx.append(float(s[i]))\n",
    "    rowy.append(float(s[i+1]))\n",
    "plt.plot(rowx,rowy,'.')\n"
   ]
  },
  {
   "cell_type": "code",
   "execution_count": 28,
   "metadata": {},
   "outputs": [
    {
     "name": "stdout",
     "output_type": "stream",
     "text": [
      "0.15914150631397675\n",
      "3\n",
      "20.012246250733575\n",
      "0.238732414637843\n",
      "0.3182830126279535\n",
      "6\n",
      "20.035967658189108\n",
      "0.477464829275686\n",
      "0.4774245189419303\n",
      "9\n",
      "20.035967658189108\n",
      "0.716197243913529\n",
      "0.3182830126279535\n",
      "6\n",
      "20.020239758804088\n",
      "0.477464829275686\n",
      "0.15914150631397675\n",
      "3\n",
      "20.020239758804088\n",
      "0.238732414637843\n",
      "0.21218867508530234\n",
      "4\n",
      "20.05617112013158\n",
      "0.31830988618379064\n",
      "0.21218867508530234\n",
      "4\n",
      "20.08083663595718\n",
      "0.31830988618379064\n",
      "0.21218867508530234\n",
      "4\n",
      "20.120636172845032\n",
      "0.31830988618379064\n",
      "0.15914150631397675\n",
      "3\n",
      "20.05617112013158\n",
      "0.238732414637843\n",
      "0.10609433754265117\n",
      "2\n",
      "20.024984394500787\n",
      "0.15915494309189532\n",
      "0.21218867508530234\n",
      "4\n",
      "20.048940121612414\n",
      "0.31830988618379064\n",
      "0.21218867508530234\n",
      "4\n",
      "20.048940121612414\n",
      "0.31830988618379064\n"
     ]
    },
    {
     "data": {
      "text/plain": [
       "[<matplotlib.lines.Line2D at 0x7f8f996e2310>]"
      ]
     },
     "execution_count": 28,
     "metadata": {},
     "output_type": "execute_result"
    },
    {
     "data": {
      "image/png": "[encoded data removed]",
      "text/plain": [
       "<Figure size 720x720 with 1 Axes>"
      ]
     },
     "metadata": {
      "needs_background": "light"
     },
     "output_type": "display_data"
    }
   ],
   "source": [
    "fig = plt.figure(figsize=(10,10))\n",
    "px = []\n",
    "py = []\n",
    "upy = []\n",
    "\n",
    "vamp3data = []\n",
    "kt2data = []\n",
    "\n",
    "y, uy= Y(1,1,20,0.035,0.005)\n",
    "x= X(1,1,3,20,0.035)\n",
    "plt.errorbar(x,y,yerr=uy, fmt='.',color='b')\n",
    "vamp3data.append((x,y,uy))\n",
    "\n",
    "\n",
    "y, uy = Y(1,1,20,0.06,0.005)\n",
    "x = X(1,1,6,20,0.06)\n",
    "plt.errorbar(x,y,yerr =uy, fmt='.',color='g')\n",
    "\n",
    "\n",
    "\n",
    "y, uy = Y(1,2.0,20,0.06,0.005)\n",
    "x = X(1,2.0,9,20,0.06)\n",
    "plt.errorbar(x,y,yerr =uy, fmt='.',color='b')\n",
    "kt2data.append((x,y,uy))\n",
    "\n",
    "y, uy = Y(1,2.0,20,0.045,0.005)\n",
    "x = X(1,2.0,6,20,0.045)\n",
    "plt.errorbar(x,y,yerr =uy, fmt='.',color='b', label=\"old points\")\n",
    "kt2data.append((x,y,uy))\n",
    "\n",
    "# y, uy = Y(1,0.6,20,0.125,0.005)\n",
    "# x = X(1,0.6,3,20,0.125)\n",
    "# plt.errorbar(x,y,xerr =uy, fmt='.')\n",
    "\n",
    "y, uy = Y(1,0.8,20,0.045,0.01)\n",
    "x = X(1,0.8,3,20,0.045)\n",
    "plt.errorbar(x,y,yerr =uy, fmt='.',color='b')\n",
    "vamp3data.append((x,y,uy))\n",
    "\n",
    "\n",
    "###### Y (a,kbt,A,T,theta), X (a,kbt,T,theta,utheta):\n",
    "# y,ux= X(1,0.2,20,0.2,0.01)\n",
    "# x = Y(1,0.2,10,20,0.2)\n",
    "# plt.errorbar(x,y,yerr =ux, fmt='.',color='g')\n",
    "\n",
    "# y,ux= X(1,1,20,0.07,0.01)\n",
    "# x = Y(1,1,6,20,0.07)\n",
    "# plt.errorbar(x,y,yerr =ux, fmt='.',color='g')\n",
    "\n",
    "# y,ux= X(1,0.4,20,0.1,0.01)\n",
    "# x = Y(1,0.4,3,20,0.1)\n",
    "# plt.errorbar(x,y,yerr =ux, fmt='.',color='g')\n",
    "\n",
    "# y,ux= X(1,0.4,20,0.08,0.01)\n",
    "# x = Y(1,0.4,5,20,0.1)\n",
    "# plt.errorbar(x,y,yerr =ux, fmt='.',color='g')\n",
    "\n",
    "# y,ux= X(1,0.5,20,0.075,0.01)\n",
    "# x = Y(1,0.5,3,20,0.075)\n",
    "# plt.errorbar(x,y,yerr =ux, fmt='.',color='g')\n",
    "\n",
    "# y,ux= X(1,0.6,20,0.12,0.01)\n",
    "# x = Y(1,0.6,3,20,0.12)\n",
    "# plt.errorbar(x,y,yerr =ux, fmt='.',color='g')\n",
    "\n",
    "# y,ux= X(1,0.8,20,0.05,0.01)\n",
    "# x = Y(1,0.8,3,20,0.05)\n",
    "# plt.errorbar(x,y,yerr =ux, fmt='.',color='g')\n",
    "\n",
    "##########\n",
    "\n",
    "vamp4data = []\n",
    "kt0p5data = []\n",
    "\n",
    "y, uy= Y(1,0.8,20,0.075,0.01)\n",
    "x = X(1,0.8,4,20,0.075)\n",
    "plt.errorbar(x,y,yerr =uy, fmt='.',color='r', label='new points')\n",
    "vamp4data.append((x,y,uy))\n",
    "\n",
    "y, uy= Y(1,0.6,20,0.09,0.01)\n",
    "x = X(1,0.6,4,20,0.09)\n",
    "plt.errorbar(x,y,yerr =uy, fmt='.',color='r')\n",
    "vamp4data.append((x,y,uy))\n",
    "\n",
    "y, uy= Y(1,0.4,20,0.11,0.01)\n",
    "x = X(1,0.4,4,20,0.11)\n",
    "plt.errorbar(x,y,yerr =uy, fmt='.',color='r')\n",
    "vamp4data.append((x,y,uy))\n",
    "\n",
    "y, uy= Y(1, 0.5, 20, 0.075, 0.01)\n",
    "x = X(1, 0.5, 3, 20, 0.075)\n",
    "plt.errorbar(x,y,yerr =uy, fmt='.',color='r')\n",
    "vamp3data.append((x,y,uy))\n",
    "\n",
    "y, uy= Y(1, 0.5, 20, 0.05, 0.01)\n",
    "x = X(1, 0.5, 2, 20, 0.05)\n",
    "plt.errorbar(x,y,yerr =uy, fmt='.',color='c')\n",
    "kt0p5data.append((x,y,uy))\n",
    "\n",
    "y, uy= Y(1, 0.9, 20, 0.07, 0.01)\n",
    "x = X(1, 0.9, 4, 20, 0.07)\n",
    "plt.errorbar(x,y,yerr =uy, fmt='.',color='r')\n",
    "vamp4data.append((x,y,uy))\n",
    "\n",
    "y, uy= Y(1, 0.7, 20, 0.07, 0.01)\n",
    "x = X(1, 0.7, 4, 20, 0.07)\n",
    "plt.errorbar(x,y,yerr =uy, fmt='.',color='r')\n",
    "vamp4data.append((x,y,uy))\n",
    "\n",
    "# plt.xlim(0,2)\n",
    "# plt.ylim(0,1)\n",
    "plt.legend()\n",
    "\n",
    "plt.xlabel(r\"${a^{2} F \\beta^{2} \\phi_{0}}$\",fontsize=18)\n",
    "plt.ylabel(r\"${F\\beta a \\theta}$\",fontsize=18)\n",
    "\n",
    "\n",
    "# import numpy as np\n",
    "# upy = np.array(upy)\n",
    "# px = np.array(px)\n",
    "# from scipy import optimize\n",
    "\n",
    "\n",
    "\n",
    "# def test_func(x,ab,ba):\n",
    "#     return ab*x + ba\n",
    "\n",
    "# params, params_covariance = optimize.curve_fit(test_func, px, py,sigma=1/upy**2, absolute_sigma=True)\n",
    "# plt.plot(px, test_func(px, params[0], params[1]),label='Fitted function')\n",
    "# slp1 = params[0]\n",
    "# slp2 = (rowy[1] - rowy[0])/(rowx[1] - rowx[0])\n",
    "# print(slp1,slp2)\n",
    "# print(slp2/slp1 * 100)\n",
    "plt.plot(np.array(rowx)*np.pi**2, np.array(rowy)*np.pi)"
   ]
  },
  {
   "cell_type": "markdown",
   "metadata": {},
   "source": [
    "##### plt.plot([0,1 * math.tan(0.05)],[0,1])"
   ]
  },
  {
   "cell_type": "markdown",
   "metadata": {},
   "source": [
    "Script for generating neat outputs"
   ]
  },
  {
   "cell_type": "code",
   "execution_count": 25,
   "metadata": {},
   "outputs": [],
   "source": [
    "def dataerrfile(data,filename):\n",
    "    np.savetxt(filename,np.array(data))\n",
    "    \n",
    "dataerrfile(vamp3data,'crit_vamp3.npy')\n",
    "dataerrfile(vamp4data,'crit_vamp4.npy')\n",
    "dataerrfile(kt2data,'crit_kt2.npy')\n",
    "dataerrfile(kt0p5data,'crit_kt0p5.npy')"
   ]
  },
  {
   "cell_type": "code",
   "execution_count": null,
   "metadata": {},
   "outputs": [],
   "source": []
  }
 ],
 "metadata": {
  "kernelspec": {
   "display_name": "Python 3",
   "language": "python",
   "name": "python3"
  },
  "language_info": {
   "codemirror_mode": {
    "name": "ipython",
    "version": 3
   },
   "file_extension": ".py",
   "mimetype": "text/x-python",
   "name": "python",
   "nbconvert_exporter": "python",
   "pygments_lexer": "ipython3",
   "version": "3.7.9"
  }
 },
 "nbformat": 4,
 "nbformat_minor": 4
}
